{
 "cells": [
  {
   "cell_type": "code",
   "execution_count": 12,
   "metadata": {},
   "outputs": [
    {
     "name": "stdout",
     "output_type": "stream",
     "text": [
      "X.shape (224, 224)\n",
      "Y.shape (224, 224)\n",
      "XY.shape (50176, 2)\n",
      "Z.shape (50176,)\n"
     ]
    },
    {
     "data": {
      "image/png": "[encoded data removed]",
      "text/plain": [
       "<Figure size 432x288 with 1 Axes>"
      ]
     },
     "metadata": {
      "needs_background": "light"
     },
     "output_type": "display_data"
    }
   ],
   "source": [
    "import matplotlib.pyplot as plt\n",
    "import numpy as np\n",
    "from scipy.stats import multivariate_normal\n",
    "from mpl_toolkits.mplot3d import axes3d\n",
    "import Image_path_load\n",
    "# 画像の大きさ\n",
    "img_w, img_h = 224, 224\n",
    "\n",
    "# 画素の座標一覧を作成する。\n",
    "X, Y = np.mgrid[:img_h, :img_w]\n",
    "print('X.shape', X.shape)  # X.shape (300, 300)\n",
    "print('Y.shape', Y.shape)  # Y.shape (300, 300)\n",
    "XY = np.c_[X.ravel(), Y.ravel()]#[0 0][0 1]～[223 222][223 223]\n",
    "print('XY.shape', XY.shape)  # XY.shape (90000, 2)\n",
    "\n",
    "# 各座標の2次元正規分布の密度関数の値を計算する。\n",
    "mean = np.array([img_w, img_h]) / 2#真ん中　平均\n",
    "sigma = np.eye(2) * 2000#[1,0] [0,1]標準偏差\n",
    "Z = multivariate_normal.pdf(x=XY, mean=mean, cov=sigma)\n",
    "print('Z.shape', Z.shape)  # Z.shape (90000,)\n",
    "Z = Z.reshape(img_h, img_w)  # (img_h * img_w) -> (img_h, img_w)\n",
    "\n",
    "def array_to_img(x):\n",
    "    '''データを [0, 255] で表される画像に変換する。\n",
    "    '''\n",
    "    x += max(-np.min(x), 0)  # 非負の値にする。\n",
    "    x_max = np.max(x)  # [0, 1] で正規化する。\n",
    "    if x_max != 0:\n",
    "        x /= x_max\n",
    "    \n",
    "    x *= 255  # [0, 255] にする。\n",
    "    return x.astype(np.uint8)\n",
    "\n",
    "# 正規分布は平均が一番値が大きいので、次の変換でその画素が 255 になることが保証される。\n",
    "img = array_to_img(Z)\n",
    "\n",
    "# 描画する。\n",
    "plt.imshow(img, cmap=plt.cm.gray)\n",
    "plt.show()"
   ]
  },
  {
   "cell_type": "code",
   "execution_count": 15,
   "metadata": {},
   "outputs": [],
   "source": [
    "import cv2\n",
    "import os\n",
    "import numpy as np\n",
    "size =(224,224)\n",
    "gausian1 = array_to_img(Z)\n",
    "gausian = gausian1[:,:,np.newaxis]\n",
    "#画像のファイルがあるパスを指定する。\n",
    "DATA_PATH = \"/home/cvmlab/Desktop/前処理/data\"\n",
    "DATA_RESULT_PATH = \"/home/cvmlab/Desktop/前処理/result/\"\n",
    "#画像の名前を所得する関数を実行している。\n",
    "image_path = Image_path_load.image_path_load(data_path=DATA_PATH).data_image_name()\n",
    "#mainの処理\n",
    "for path in image_path:\n",
    "    img = cv2.imread(DATA_PATH+ \"/\" + path)\n",
    "    img = cv2.resize(img, size) # resize\n",
    "    imgs = (img/255) * gausian\n",
    "    cv2.imwrite((DATA_RESULT_PATH + path), imgs)\n"
   ]
  },
  {
   "cell_type": "code",
   "execution_count": 14,
   "metadata": {},
   "outputs": [],
   "source": [
    "import cv2\n",
    "import os\n",
    "import numpy as np\n",
    "size =(224,224)\n",
    "gausian1 = array_to_img(Z)\n",
    "gausian = gausian1[:,:,np.newaxis]\n",
    "for path in os.listdir(f'/home/cvmlab/Desktop/view2020/クラスタリング/dataB/images/target'):\n",
    "        img = cv2.imread(f'/home/cvmlab/Desktop/view2020/クラスタリング/dataB/images/target/{path}',cv2.IMREAD_COLOR)\n",
    "        img = cv2.resize(img, size) # resize\n",
    "        imgs = (img/255) * gausian\n",
    "        imgs = cv2.resize(imgs, size) \n",
    "        cv2.imwrite(f\"/home/cvmlab/Desktop/view2020/クラスタリング/dataB/images/target/{path}\",imgs)"
   ]
  },
  {
   "cell_type": "code",
   "execution_count": 19,
   "metadata": {},
   "outputs": [],
   "source": [
    "#回転させる\n",
    "import cv2\n",
    "import os\n",
    "import numpy as np\n",
    "size =(224,224)\n",
    "\n",
    "for path in os.listdir(f'/home/cvmlab/Desktop/view2020/クラスタリング/dataB/images/target'):\n",
    "        img = cv2.imread(f'/home/cvmlab/Desktop/view2020/クラスタリング/dataB/images/target/{path}',cv2.IMREAD_COLOR)\n",
    "        \n",
    "        img = cv2.resize(img, size) # resize\n",
    "        #高さを定義\n",
    "        height = img.shape[0]                         \n",
    "        #幅を定義\n",
    "        width = img.shape[1]  \n",
    "        #回転の中心を指定                          \n",
    "        center = (int(width/2), int(height/2))\n",
    "        angles = [0, 90,180,270]\n",
    "        for angle,i in zip(angles,[0,1,2,3]):\n",
    "            #getRotationMatrix2D関数を使用\n",
    "            trans = cv2.getRotationMatrix2D(center, angle , 1.0)\n",
    "            #アフィン変換\n",
    "            image2 = cv2.warpAffine(img, trans, (width,height))\n",
    "            o = str(i)+path\n",
    "            cv2.imwrite(f\"/home/cvmlab/Desktop/view2020/クラスタリング/dataB/images/target/{o}\",image2)"
   ]
  },
  {
   "cell_type": "code",
   "execution_count": null,
   "metadata": {},
   "outputs": [],
   "source": []
  }
 ],
 "metadata": {
  "kernelspec": {
   "display_name": "Python 3",
   "language": "python",
   "name": "python3"
  },
  "language_info": {
   "codemirror_mode": {
    "name": "ipython",
    "version": 3
   },
   "file_extension": ".py",
   "mimetype": "text/x-python",
   "name": "python",
   "nbconvert_exporter": "python",
   "pygments_lexer": "ipython3",
   "version": "3.7.3"
  }
 },
 "nbformat": 4,
 "nbformat_minor": 2
}
